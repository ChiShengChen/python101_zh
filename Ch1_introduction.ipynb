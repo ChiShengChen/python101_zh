{
  "nbformat": 4,
  "nbformat_minor": 0,
  "metadata": {
    "colab": {
      "provenance": []
    },
    "kernelspec": {
      "name": "python3",
      "display_name": "Python 3"
    },
    "language_info": {
      "name": "python"
    }
  },
  "cells": [
    {
      "cell_type": "code",
      "execution_count": null,
      "metadata": {
        "colab": {
          "base_uri": "https://localhost:8080/"
        },
        "id": "VylDvw4CTTYs",
        "outputId": "893eeffa-f4ee-4345-e0eb-972205617792"
      },
      "outputs": [
        {
          "output_type": "stream",
          "name": "stdout",
          "text": [
            "Hello, Python!\n",
            "34234324\n"
          ]
        }
      ],
      "source": [
        "# ======================================\n",
        "# ✅ 0. 開場 - Hello Python!\n",
        "# ======================================\n",
        "print(\"Hello, Python!\")\n",
        "print('34234324')"
      ]
    },
    {
      "cell_type": "code",
      "source": [
        "# 練習：請修改下面程式碼，印出你自己的名字"
      ],
      "metadata": {
        "id": "B6XkJ0ohTd5s"
      },
      "execution_count": null,
      "outputs": []
    },
    {
      "cell_type": "code",
      "source": [
        "# ======================================\n",
        "# ✅ 1. 變數與型別\n",
        "# ======================================\n",
        "name = \"Alice\"\n",
        "age = 18 #integer\n",
        "height = 1.65 #float\n",
        "\n",
        "print(\"姓名：\", name)\n",
        "print(\"年齡：\", age)\n",
        "print(\"身高：\", height)\n",
        "\n",
        "print(\"資料型別：\")\n",
        "print(type(name))\n",
        "print(type(age))\n",
        "print(type(height))"
      ],
      "metadata": {
        "colab": {
          "base_uri": "https://localhost:8080/"
        },
        "id": "wdKTrfcTTiik",
        "outputId": "da17e9be-f5c8-455a-b1e0-7fcafecd3383"
      },
      "execution_count": null,
      "outputs": [
        {
          "output_type": "stream",
          "name": "stdout",
          "text": [
            "姓名： Alice\n",
            "年齡： 18\n",
            "身高： 1.65\n",
            "資料型別：\n",
            "<class 'str'>\n",
            "<class 'int'>\n",
            "<class 'float'>\n"
          ]
        }
      ]
    },
    {
      "cell_type": "code",
      "source": [
        "# 練習：請建立三個變數：自己的名字、年齡、身高，並印出"
      ],
      "metadata": {
        "id": "zYUUW4CHTlQu"
      },
      "execution_count": null,
      "outputs": []
    },
    {
      "cell_type": "code",
      "source": [
        "print(name + str(age))"
      ],
      "metadata": {
        "colab": {
          "base_uri": "https://localhost:8080/"
        },
        "collapsed": true,
        "id": "5qbizeRbYGOT",
        "outputId": "d2696de9-d92c-481d-a3f0-cac01c85dfef"
      },
      "execution_count": null,
      "outputs": [
        {
          "output_type": "stream",
          "name": "stdout",
          "text": [
            "er18\n"
          ]
        }
      ]
    },
    {
      "cell_type": "code",
      "source": [
        "# ======================================\n",
        "# ✅ 2. 計算與輸入：BMI 計算\n",
        "# ======================================\n",
        "height = float(input(\"請輸入你的身高（公尺）：\"))\n",
        "weight = float(input(\"請輸入你的體重（公斤）：\"))\n",
        "bmi = weight / (height ** 2)\n",
        "print(\"你的 BMI 是：\", round(bmi, 2))"
      ],
      "metadata": {
        "colab": {
          "base_uri": "https://localhost:8080/"
        },
        "id": "7qqXSUoqTpqs",
        "outputId": "968af1f6-600d-46a7-e2f8-2517504c8abd"
      },
      "execution_count": null,
      "outputs": [
        {
          "output_type": "stream",
          "name": "stdout",
          "text": [
            "請輸入你的身高（公尺）：123\n",
            "請輸入你的體重（公斤）：345\n",
            "你的 BMI 是： 0.02\n"
          ]
        }
      ]
    },
    {
      "cell_type": "code",
      "source": [
        "a = 2\n",
        "b = 3\n",
        "c = a ** b\n",
        "print(c)\n",
        "\n",
        "c != 90"
      ],
      "metadata": {
        "colab": {
          "base_uri": "https://localhost:8080/"
        },
        "id": "MTZ2b-dOZQHO",
        "outputId": "35d6e74f-7f5c-4907-853b-1308b4a2c1e9"
      },
      "execution_count": null,
      "outputs": [
        {
          "output_type": "stream",
          "name": "stdout",
          "text": [
            "8\n"
          ]
        }
      ]
    },
    {
      "cell_type": "code",
      "source": [
        "# 練習：輸入底跟高計算三角形面積"
      ],
      "metadata": {
        "id": "TXxyBboZTuoz"
      },
      "execution_count": null,
      "outputs": []
    },
    {
      "cell_type": "code",
      "source": [
        "# ======================================\n",
        "# ✅ 3. 條件判斷 if/elif/else\n",
        "# ======================================\n",
        "score = int(input(\"請輸入你的成績（0-100）：\"))\n",
        "if score >= 90:\n",
        "    print(\"你是 A 級！\")\n",
        "elif score >= 80:\n",
        "    print(\"你是 B 級！\")\n",
        "elif score >= 70:\n",
        "    print(\"你是 C 級\")\n",
        "else:\n",
        "    print(\"你不及格 QQ\")"
      ],
      "metadata": {
        "colab": {
          "base_uri": "https://localhost:8080/"
        },
        "id": "beo3fu6sUFyS",
        "outputId": "0838f42d-e20a-406b-918e-eee4b805223a"
      },
      "execution_count": null,
      "outputs": [
        {
          "output_type": "stream",
          "name": "stdout",
          "text": [
            "請輸入你的成績（0-100）：60\n",
            "你不及格 QQ\n"
          ]
        }
      ]
    },
    {
      "cell_type": "code",
      "source": [
        "# 練習：設計一個「奇偶數判斷器」：輸入一個數字，顯示是奇數還是偶數\n",
        "num = int(input(\"請輸入奇偶數\"))\n",
        "if num / 2 == 0:\n",
        "  print(\"\")"
      ],
      "metadata": {
        "id": "x1Y4afDTUIAy"
      },
      "execution_count": null,
      "outputs": []
    },
    {
      "cell_type": "code",
      "source": [
        "# ======================================\n",
        "# ✅ 4. 迴圈 for & while\n",
        "# ======================================\n",
        "# for 迴圈：1 到 5\n",
        "for i in range(1, 6):\n",
        "    print(\"這是第\", i, \"次\")\n",
        "\n",
        "for j in range(2, 5):\n",
        "  print(\"this is \", j)\n",
        "\n",
        "for k in range(0, 10, 2):\n",
        "  print(\"this is \", k)"
      ],
      "metadata": {
        "colab": {
          "base_uri": "https://localhost:8080/"
        },
        "id": "aW4FEZGHUMMF",
        "outputId": "688f9513-c683-484f-b235-b6abc0bdd973"
      },
      "execution_count": null,
      "outputs": [
        {
          "output_type": "stream",
          "name": "stdout",
          "text": [
            "這是第 1 次\n",
            "這是第 2 次\n",
            "這是第 3 次\n",
            "這是第 4 次\n",
            "這是第 5 次\n",
            "this is  0\n",
            "this is  2\n",
            "this is  4\n",
            "this is  6\n",
            "this is  8\n"
          ]
        }
      ]
    },
    {
      "cell_type": "code",
      "source": [
        "# 練習：加總 1~n\n",
        "num = int(input(\"input an integer n\"))\n",
        "total = 0\n",
        "for i in range(1, num+1):\n",
        "  total = total + i # total += i\n",
        "  # print(\"The sum is \", i )\n",
        "\n",
        "print(\"從1加到\", num, \"的總和是\",  total)"
      ],
      "metadata": {
        "colab": {
          "base_uri": "https://localhost:8080/"
        },
        "id": "jsR0o7PrUO9l",
        "outputId": "50f14957-1a97-4af6-fbcf-9cfe42802f59"
      },
      "execution_count": null,
      "outputs": [
        {
          "output_type": "stream",
          "name": "stdout",
          "text": [
            "input an integer n100\n",
            "從1加到 100 的總和是 5050\n"
          ]
        }
      ]
    },
    {
      "cell_type": "code",
      "source": [
        "# while 迴圈：直到輸入正確密碼為止\n",
        "password = \"apple\"\n",
        "while True:\n",
        "    guess = input(\"請輸入密碼：\")\n",
        "    if guess == password:\n",
        "        print(\"密碼正確！\")\n",
        "        break\n",
        "    else:\n",
        "        print(\"錯誤，再試一次\")"
      ],
      "metadata": {
        "colab": {
          "base_uri": "https://localhost:8080/"
        },
        "id": "I6Lk2KqDUYfm",
        "outputId": "ce51267e-2f4e-44a9-f077-fb0206cd144d"
      },
      "execution_count": null,
      "outputs": [
        {
          "output_type": "stream",
          "name": "stdout",
          "text": [
            "請輸入密碼：fdgdfgdf\n",
            "錯誤，再試一次\n",
            "請輸入密碼：sgsgrs\n",
            "錯誤，再試一次\n",
            "請輸入密碼：apple\n",
            "密碼正確！\n"
          ]
        }
      ]
    },
    {
      "cell_type": "code",
      "source": [
        "# 新增練習: 練習：求正數"
      ],
      "metadata": {
        "collapsed": true,
        "id": "N3MNxHHUU9MX"
      },
      "execution_count": null,
      "outputs": []
    },
    {
      "cell_type": "code",
      "source": [
        "# ======================================\n",
        "# ✅ 5. 函式 function\n",
        "# ======================================\n",
        "def greet(name):\n",
        "    print(\"Hi,\", name)\n",
        "\n",
        "def add(x, y):\n",
        "    return x + y\n",
        "\n",
        "# 呼叫函式\n",
        "name = input(\"請輸入名字：\")\n",
        "greet(name)\n",
        "print(\"3 + 7 =\", add(3, 7))"
      ],
      "metadata": {
        "colab": {
          "base_uri": "https://localhost:8080/"
        },
        "id": "s6lh-vkUUcCk",
        "outputId": "fd2d3c8a-20de-4f58-8d56-99f0abdea987"
      },
      "execution_count": null,
      "outputs": [
        {
          "output_type": "stream",
          "name": "stdout",
          "text": [
            "請輸入名字：mi ke\n",
            "Hi, mi ke\n",
            "3 + 7 = 10\n"
          ]
        }
      ]
    },
    {
      "cell_type": "code",
      "source": [
        "# 練習：請寫一個函式 sub(x, y)，回傳兩數相減的結果"
      ],
      "metadata": {
        "id": "Ek3ZaOT6Ufqv"
      },
      "execution_count": null,
      "outputs": []
    },
    {
      "cell_type": "code",
      "source": [
        "# ======================================\n",
        "# ✅ 6. 小專案：簡單互動心理測驗\n",
        "# ======================================\n",
        "def quiz():\n",
        "    pet = input(\"你喜歡貓還是狗？（cat/dog）：\")\n",
        "    if pet == \"cat\":\n",
        "        print(\"你是安靜又有想法的人！\")\n",
        "    elif pet == \"dog\":\n",
        "        print(\"你是熱情又開朗的人！\")\n",
        "    else:\n",
        "        print(\"請輸入 cat 或 dog\")\n",
        "\n",
        "quiz()"
      ],
      "metadata": {
        "id": "YX5n_CiBUi79"
      },
      "execution_count": null,
      "outputs": []
    },
    {
      "cell_type": "code",
      "source": [
        "# 練習：加入第二題：喜歡白天還是晚上？（day/night） 並印出另一種性格分析"
      ],
      "metadata": {
        "id": "1qzsPsSPUqP9"
      },
      "execution_count": null,
      "outputs": []
    },
    {
      "cell_type": "code",
      "source": [
        "# ======================================\n",
        "# ✅ 7. list 與 dictionary 教學與練習\n",
        "# ======================================\n",
        "# list：有順序的資料集合\n",
        "fruits = [\"apple\", \"banana\", \"cherry\"]\n",
        "print(fruits, \"orange\")\n",
        "print(fruits)\n",
        "print(\"第一個水果是：\", fruits[0])\n",
        "fruits.append(\"orange\")\n",
        "print(\"所有水果：\", fruits)\n",
        "print(fruits)\n",
        "\n",
        "\n",
        "\n",
        "# 練習：請建立一個自己的最愛電影 list，並加上一部新電影\n",
        "\n",
        "\n"
      ],
      "metadata": {
        "colab": {
          "base_uri": "https://localhost:8080/"
        },
        "id": "nHHQhFi_VXhb",
        "outputId": "bd5f9222-f103-4ff7-bc8d-02a9588b0108"
      },
      "execution_count": null,
      "outputs": [
        {
          "output_type": "stream",
          "name": "stdout",
          "text": [
            "['apple', 'banana', 'cherry'] orange\n",
            "['apple', 'banana', 'cherry']\n",
            "第一個水果是： apple\n",
            "所有水果： ['apple', 'banana', 'cherry', 'orange']\n",
            "['apple', 'banana', 'cherry', 'orange']\n"
          ]
        }
      ]
    },
    {
      "cell_type": "code",
      "source": [
        "# dict：鍵值對的資料 key value\n",
        "person = {\"name\": [\"Alice\", \"Bob\"], \"age\": 18, \"city\": \"Taipei\"}\n",
        "print(\"姓名：\", person[\"name\"])\n",
        "print(\"姓名：\", person[\"name\"][0])\n",
        "person[\"job\"] = \"student\"\n",
        "print(\"完整資訊：\", person)"
      ],
      "metadata": {
        "colab": {
          "base_uri": "https://localhost:8080/"
        },
        "id": "XPDX6G0AjTZX",
        "outputId": "330f1b9b-a0b8-46e5-d692-fb5f6edd5f7d"
      },
      "execution_count": null,
      "outputs": [
        {
          "output_type": "stream",
          "name": "stdout",
          "text": [
            "姓名： ['Alice', 'Bob']\n",
            "姓名： Alice\n",
            "完整資訊： {'name': ['Alice', 'Bob'], 'age': 18, 'city': 'Taipei', 'job': 'student'}\n"
          ]
        }
      ]
    },
    {
      "cell_type": "code",
      "source": [
        "person_2 = {\"name\": \"alice\", \"age\": 22}\n",
        "\n",
        "person_2[\"age\"] = 20\n",
        "print(person_2)"
      ],
      "metadata": {
        "colab": {
          "base_uri": "https://localhost:8080/"
        },
        "id": "8I959_lWvzpx",
        "outputId": "64762bbb-6650-4ec7-e037-dc54e19dd6b0"
      },
      "execution_count": null,
      "outputs": [
        {
          "output_type": "stream",
          "name": "stdout",
          "text": [
            "{'name': 'alice', 'age': 20}\n"
          ]
        }
      ]
    },
    {
      "cell_type": "code",
      "source": [
        "person_2[\"city\"] = \"Taipei\"\n",
        "print(person_2)\n",
        "del person_2[\"city\"]\n",
        "print(person_2)"
      ],
      "metadata": {
        "colab": {
          "base_uri": "https://localhost:8080/"
        },
        "id": "2kD2hi-iwGNy",
        "outputId": "6a4132a3-cac5-4a63-cfac-c7695a638aaf"
      },
      "execution_count": null,
      "outputs": [
        {
          "output_type": "stream",
          "name": "stdout",
          "text": [
            "{'name': 'alice', 'age': 20, 'city': 'Taipei'}\n",
            "{'name': 'alice', 'age': 20}\n"
          ]
        }
      ]
    },
    {
      "cell_type": "code",
      "source": [
        "# 練習：建立一個 dict 儲存一本書的資訊（書名、作者、出版年份）"
      ],
      "metadata": {
        "id": "JRRBcOuQVYtU"
      },
      "execution_count": null,
      "outputs": []
    },
    {
      "cell_type": "code",
      "source": [
        "# 課後專案：建立你的「個人小檔案互動系統」\n",
        "# 功能設計要求：\n",
        "# 1.輸入個人基本資料\n",
        "# 使用者輸入姓名、年齡、城市、興趣清單（list）\n",
        "# 儲存在 person 字典中\n",
        "\n",
        "# 2.BMI 計算與健康建議\n",
        "# 輸入身高、體重 → 計算 BMI\n",
        "# 使用 if/elif 給出健康評價（過輕/正常/過重/肥胖）\n",
        "\n",
        "# 3.興趣管理功能\n",
        "# 提供選單：新增興趣、刪除興趣、列出所有興趣（使用 while 與 list）\n",
        "\n",
        "# 4.查詢與編輯功能\n",
        "# 查詢目前個人資訊（印出整個字典）\n",
        "# 修改城市（輸入新值並更新字典）\n",
        "# 加入職業欄位\n",
        "\n",
        "# 5.整合成函式\n",
        "# 將 BMI 計算、興趣選單功能等模組寫成函式"
      ],
      "metadata": {
        "id": "Ny-ypJBRVbRz"
      },
      "execution_count": null,
      "outputs": []
    },
    {
      "cell_type": "code",
      "source": [
        "# 建立空的 person 字典\n",
        "person = {}\n",
        "\n",
        "# ✅ 1. 輸入基本資料\n",
        "person[\"name\"] = input(\"請輸入你的姓名：\")\n",
        "person[\"age\"] = int(input(\"請輸入你的年齡：\"))\n",
        "person[\"city\"] = input(\"請輸入你居住的城市：\")\n",
        "person[\"interests\"] = []\n",
        "\n",
        "# ✅ 2. BMI 計算與健康建議\n",
        "def calculate_bmi():\n",
        "    height = float(input(\"請輸入你的身高（公尺）：\"))\n",
        "    weight = float(input(\"請輸入你的體重（公斤）：\"))\n",
        "    bmi = weight / (height ** 2)\n",
        "    print(\"你的 BMI 為：\", round(bmi, 2))\n",
        "\n",
        "    if bmi < 18.5:\n",
        "        print(\"➡️ 評價：過輕\")\n",
        "    elif bmi < 24:\n",
        "        print(\"➡️ 評價：正常\")\n",
        "    elif bmi < 27:\n",
        "        print(\"➡️ 評價：過重\")\n",
        "    else:\n",
        "        print(\"➡️ 評價：肥胖\")\n",
        "\n",
        "    return round(bmi, 2)\n",
        "\n",
        "person[\"bmi\"] = calculate_bmi()\n",
        "\n",
        "# ✅ 3. 興趣管理功能\n",
        "def manage_interests(interest_list):\n",
        "    while True:\n",
        "        print(\"\\n--- 興趣管理選單 ---\")\n",
        "        print(\"1. 新增興趣\")\n",
        "        print(\"2. 刪除興趣\")\n",
        "        print(\"3. 顯示興趣\")\n",
        "        print(\"4. 離開\")\n",
        "        choice = input(\"請選擇操作：\")\n",
        "\n",
        "        if choice == \"1\":\n",
        "            new_interest = input(\"請輸入要新增的興趣：\")\n",
        "            interest_list.append(new_interest)\n",
        "            print(\"✅ 已新增\")\n",
        "        elif choice == \"2\":\n",
        "            remove_interest = input(\"請輸入要刪除的興趣：\")\n",
        "            if remove_interest in interest_list:\n",
        "                interest_list.remove(remove_interest)\n",
        "                print(\"✅ 已刪除\")\n",
        "            else:\n",
        "                print(\"⚠️ 找不到此興趣\")\n",
        "        elif choice == \"3\":\n",
        "            print(\"你目前的興趣有：\", interest_list)\n",
        "        elif choice == \"4\":\n",
        "            break\n",
        "        else:\n",
        "            print(\"⚠️ 無效選項，請重新輸入\")\n",
        "\n",
        "# 呼叫興趣管理功能\n",
        "manage_interests(person[\"interests\"])\n",
        "\n",
        "# ✅ 4. 查詢與編輯功能\n",
        "def edit_profile(profile):\n",
        "    print(\"\\n--- 編輯個人資料 ---\")\n",
        "    print(\"目前城市：\", profile[\"city\"])\n",
        "    new_city = input(\"請輸入新城市（按 Enter 跳過）：\")\n",
        "    if new_city != \"\":\n",
        "        profile[\"city\"] = new_city\n",
        "        print(\"✅ 城市已更新\")\n",
        "\n",
        "    job = input(\"請輸入你的職業：\")\n",
        "    profile[\"job\"] = job\n",
        "    print(\"✅ 職業已加入\")\n",
        "\n",
        "    print(\"\\n--- 完整個人檔案 ---\")\n",
        "    print(profile)\n",
        "\n",
        "# 呼叫查詢與編輯功能\n",
        "edit_profile(person)\n"
      ],
      "metadata": {
        "colab": {
          "base_uri": "https://localhost:8080/",
          "height": 356
        },
        "id": "sEFMHBDPvMoG",
        "outputId": "978ae08e-9a7c-486f-9532-bd1a43782d50"
      },
      "execution_count": null,
      "outputs": [
        {
          "output_type": "error",
          "ename": "KeyboardInterrupt",
          "evalue": "Interrupted by user",
          "traceback": [
            "\u001b[0;31m---------------------------------------------------------------------------\u001b[0m",
            "\u001b[0;31mKeyboardInterrupt\u001b[0m                         Traceback (most recent call last)",
            "\u001b[0;32m<ipython-input-9-438f3bf878be>\u001b[0m in \u001b[0;36m<cell line: 0>\u001b[0;34m()\u001b[0m\n\u001b[1;32m      3\u001b[0m \u001b[0;34m\u001b[0m\u001b[0m\n\u001b[1;32m      4\u001b[0m \u001b[0;31m# ✅ 1. 輸入基本資料\u001b[0m\u001b[0;34m\u001b[0m\u001b[0;34m\u001b[0m\u001b[0m\n\u001b[0;32m----> 5\u001b[0;31m \u001b[0mperson\u001b[0m\u001b[0;34m[\u001b[0m\u001b[0;34m\"name\"\u001b[0m\u001b[0;34m]\u001b[0m \u001b[0;34m=\u001b[0m \u001b[0minput\u001b[0m\u001b[0;34m(\u001b[0m\u001b[0;34m\"請輸入你的姓名：\"\u001b[0m\u001b[0;34m)\u001b[0m\u001b[0;34m\u001b[0m\u001b[0;34m\u001b[0m\u001b[0m\n\u001b[0m\u001b[1;32m      6\u001b[0m \u001b[0mperson\u001b[0m\u001b[0;34m[\u001b[0m\u001b[0;34m\"age\"\u001b[0m\u001b[0;34m]\u001b[0m \u001b[0;34m=\u001b[0m \u001b[0mint\u001b[0m\u001b[0;34m(\u001b[0m\u001b[0minput\u001b[0m\u001b[0;34m(\u001b[0m\u001b[0;34m\"請輸入你的年齡：\"\u001b[0m\u001b[0;34m)\u001b[0m\u001b[0;34m)\u001b[0m\u001b[0;34m\u001b[0m\u001b[0;34m\u001b[0m\u001b[0m\n\u001b[1;32m      7\u001b[0m \u001b[0mperson\u001b[0m\u001b[0;34m[\u001b[0m\u001b[0;34m\"city\"\u001b[0m\u001b[0;34m]\u001b[0m \u001b[0;34m=\u001b[0m \u001b[0minput\u001b[0m\u001b[0;34m(\u001b[0m\u001b[0;34m\"請輸入你居住的城市：\"\u001b[0m\u001b[0;34m)\u001b[0m\u001b[0;34m\u001b[0m\u001b[0;34m\u001b[0m\u001b[0m\n",
            "\u001b[0;32m/usr/local/lib/python3.11/dist-packages/ipykernel/kernelbase.py\u001b[0m in \u001b[0;36mraw_input\u001b[0;34m(self, prompt)\u001b[0m\n\u001b[1;32m   1175\u001b[0m                 \u001b[0;34m\"raw_input was called, but this frontend does not support input requests.\"\u001b[0m\u001b[0;34m\u001b[0m\u001b[0;34m\u001b[0m\u001b[0m\n\u001b[1;32m   1176\u001b[0m             )\n\u001b[0;32m-> 1177\u001b[0;31m         return self._input_request(\n\u001b[0m\u001b[1;32m   1178\u001b[0m             \u001b[0mstr\u001b[0m\u001b[0;34m(\u001b[0m\u001b[0mprompt\u001b[0m\u001b[0;34m)\u001b[0m\u001b[0;34m,\u001b[0m\u001b[0;34m\u001b[0m\u001b[0;34m\u001b[0m\u001b[0m\n\u001b[1;32m   1179\u001b[0m             \u001b[0mself\u001b[0m\u001b[0;34m.\u001b[0m\u001b[0m_parent_ident\u001b[0m\u001b[0;34m[\u001b[0m\u001b[0;34m\"shell\"\u001b[0m\u001b[0;34m]\u001b[0m\u001b[0;34m,\u001b[0m\u001b[0;34m\u001b[0m\u001b[0;34m\u001b[0m\u001b[0m\n",
            "\u001b[0;32m/usr/local/lib/python3.11/dist-packages/ipykernel/kernelbase.py\u001b[0m in \u001b[0;36m_input_request\u001b[0;34m(self, prompt, ident, parent, password)\u001b[0m\n\u001b[1;32m   1217\u001b[0m             \u001b[0;32mexcept\u001b[0m \u001b[0mKeyboardInterrupt\u001b[0m\u001b[0;34m:\u001b[0m\u001b[0;34m\u001b[0m\u001b[0;34m\u001b[0m\u001b[0m\n\u001b[1;32m   1218\u001b[0m                 \u001b[0;31m# re-raise KeyboardInterrupt, to truncate traceback\u001b[0m\u001b[0;34m\u001b[0m\u001b[0;34m\u001b[0m\u001b[0m\n\u001b[0;32m-> 1219\u001b[0;31m                 \u001b[0;32mraise\u001b[0m \u001b[0mKeyboardInterrupt\u001b[0m\u001b[0;34m(\u001b[0m\u001b[0;34m\"Interrupted by user\"\u001b[0m\u001b[0;34m)\u001b[0m \u001b[0;32mfrom\u001b[0m \u001b[0;32mNone\u001b[0m\u001b[0;34m\u001b[0m\u001b[0;34m\u001b[0m\u001b[0m\n\u001b[0m\u001b[1;32m   1220\u001b[0m             \u001b[0;32mexcept\u001b[0m \u001b[0mException\u001b[0m\u001b[0;34m:\u001b[0m\u001b[0;34m\u001b[0m\u001b[0;34m\u001b[0m\u001b[0m\n\u001b[1;32m   1221\u001b[0m                 \u001b[0mself\u001b[0m\u001b[0;34m.\u001b[0m\u001b[0mlog\u001b[0m\u001b[0;34m.\u001b[0m\u001b[0mwarning\u001b[0m\u001b[0;34m(\u001b[0m\u001b[0;34m\"Invalid Message:\"\u001b[0m\u001b[0;34m,\u001b[0m \u001b[0mexc_info\u001b[0m\u001b[0;34m=\u001b[0m\u001b[0;32mTrue\u001b[0m\u001b[0;34m)\u001b[0m\u001b[0;34m\u001b[0m\u001b[0;34m\u001b[0m\u001b[0m\n",
            "\u001b[0;31mKeyboardInterrupt\u001b[0m: Interrupted by user"
          ]
        }
      ]
    },
    {
      "cell_type": "code",
      "source": [
        "###專案目標\n",
        "# 製作一個可儲存多位學生資料的互動系統，支援新增、查詢、修改與刪除學生資訊，並統計整體成績資訊。\n",
        "\n",
        "###功能需求\n",
        "## 功能一：資料結構設計\n",
        "# 使用 dict 儲存學生的基本資料（姓名、年齡、科目與成績）\n",
        "# 每位學生是一個 dict，所有學生用一個 list 管理\n",
        "\n",
        "# ex:\n",
        "students = [\n",
        "    {\"name\": \"Alice\", \"age\": 17, \"scores\": {\"math\": 90, \"english\": 85}},\n",
        "    {\"name\": \"Bob\", \"age\": 16, \"scores\": {\"math\": 78, \"english\": 92}},\n",
        "]\n",
        "\n",
        "## 功能二：主選單功能（使用 while True）\n",
        "# 需顯示\n",
        "=== 學生管理系統 ===\n",
        "1. 新增學生\n",
        "2. 顯示所有學生\n",
        "3. 查詢學生\n",
        "4. 刪除學生\n",
        "5. 更新成績\n",
        "6. 顯示平均成績統計\n",
        "7. 離開\n",
        "\n",
        "\n",
        "## 功能三：各項功能細節\n",
        "1. 新增學生\n",
        "# a.輸入姓名、年齡\n",
        "# b.輸入 math 與 english 成績\n",
        "# c.加入 students list\n",
        "\n",
        "2. 顯示所有學生\n",
        "# 用 for 迴圈列出每位學生基本資料與成績\n",
        "\n",
        "3. 查詢學生\n",
        "# 根據名字搜尋學生，若存在則顯示資料，否則提示「查無此人」\n",
        "\n",
        "4. 刪除學生\n",
        "# 輸入名字並移除該筆資料（用 del 或 pop()）\n",
        "\n",
        "5. 更新成績\n",
        "# 修改某位學生的 math 或 english 分數\n",
        "\n",
        "6. 顯示平均成績統計\n",
        "# 計算所有學生 math 與 english 的平均分數\n",
        "# 顯示最高與最低分的學生姓名（使用 max() 和 min()）\n"
      ],
      "metadata": {
        "id": "mYt7vdwhtuou",
        "colab": {
          "base_uri": "https://localhost:8080/",
          "height": 106
        },
        "outputId": "6e0e7b21-f827-4631-8ce0-b03b72fd393e"
      },
      "execution_count": null,
      "outputs": [
        {
          "output_type": "error",
          "ename": "SyntaxError",
          "evalue": "invalid syntax (<ipython-input-1-bef24cf043e2>, line 17)",
          "traceback": [
            "\u001b[0;36m  File \u001b[0;32m\"<ipython-input-1-bef24cf043e2>\"\u001b[0;36m, line \u001b[0;32m17\u001b[0m\n\u001b[0;31m    === 學生管理系統 ===\u001b[0m\n\u001b[0m    ^\u001b[0m\n\u001b[0;31mSyntaxError\u001b[0m\u001b[0;31m:\u001b[0m invalid syntax\n"
          ]
        }
      ]
    },
    {
      "cell_type": "code",
      "source": [],
      "metadata": {
        "id": "Evdr7u2mVqTA",
        "colab": {
          "base_uri": "https://localhost:8080/",
          "height": 268
        },
        "outputId": "6225dc02-250c-4899-e87a-ecd789a8ddc0"
      },
      "execution_count": null,
      "outputs": [
        {
          "name": "stdout",
          "output_type": "stream",
          "text": [
            "\\n=== 學生管理系統 ===\n",
            "1. 新增學生  2. 顯示所有學生  3. 顯示平均成績  4. 離開\n",
            "請選擇功能：1\n"
          ]
        },
        {
          "output_type": "error",
          "ename": "NameError",
          "evalue": "name 'add_student' is not defined",
          "traceback": [
            "\u001b[0;31m---------------------------------------------------------------------------\u001b[0m",
            "\u001b[0;31mNameError\u001b[0m                                 Traceback (most recent call last)",
            "\u001b[0;32m<ipython-input-7-f2c09d56ba1b>\u001b[0m in \u001b[0;36m<cell line: 0>\u001b[0;34m()\u001b[0m\n\u001b[1;32m      4\u001b[0m     \u001b[0mchoice\u001b[0m \u001b[0;34m=\u001b[0m \u001b[0minput\u001b[0m\u001b[0;34m(\u001b[0m\u001b[0;34m\"請選擇功能：\"\u001b[0m\u001b[0;34m)\u001b[0m\u001b[0;34m\u001b[0m\u001b[0;34m\u001b[0m\u001b[0m\n\u001b[1;32m      5\u001b[0m     \u001b[0;32mif\u001b[0m \u001b[0mchoice\u001b[0m \u001b[0;34m==\u001b[0m \u001b[0;34m\"1\"\u001b[0m\u001b[0;34m:\u001b[0m\u001b[0;34m\u001b[0m\u001b[0;34m\u001b[0m\u001b[0m\n\u001b[0;32m----> 6\u001b[0;31m         \u001b[0madd_student\u001b[0m\u001b[0;34m(\u001b[0m\u001b[0;34m)\u001b[0m\u001b[0;34m\u001b[0m\u001b[0;34m\u001b[0m\u001b[0m\n\u001b[0m\u001b[1;32m      7\u001b[0m     \u001b[0;32melif\u001b[0m \u001b[0mchoice\u001b[0m \u001b[0;34m==\u001b[0m \u001b[0;34m\"2\"\u001b[0m\u001b[0;34m:\u001b[0m\u001b[0;34m\u001b[0m\u001b[0;34m\u001b[0m\u001b[0m\n\u001b[1;32m      8\u001b[0m         \u001b[0mshow_all\u001b[0m\u001b[0;34m(\u001b[0m\u001b[0;34m)\u001b[0m\u001b[0;34m\u001b[0m\u001b[0;34m\u001b[0m\u001b[0m\n",
            "\u001b[0;31mNameError\u001b[0m: name 'add_student' is not defined"
          ]
        }
      ]
    },
    {
      "cell_type": "code",
      "source": [
        "# 參考答案：\n",
        "students = []\n",
        "\n",
        "def add_student():\n",
        "    name = input(\"姓名：\")\n",
        "    age = int(input(\"年齡：\"))\n",
        "    math = int(input(\"數學成績：\"))\n",
        "    eng = int(input(\"英文成績：\"))\n",
        "    student = {\"name\": name, \"age\": age, \"scores\": {\"math\": math, \"english\": eng}}\n",
        "    students.append(student)\n",
        "    print(\"✅ 已新增學生！\")\n",
        "\n",
        "def show_all():\n",
        "    for s in students:\n",
        "        print(f\"{s['name']} ({s['age']}歲) - 數學: {s['scores']['math']} 英文: {s['scores']['english']}\")\n",
        "#why for迴圈？\n",
        "#print(students)這樣會出問題嗎\n",
        "\n",
        "def average_scores():\n",
        "    if not students:\n",
        "        print(\"無學生資料\")\n",
        "        return\n",
        "    total_math = sum(s['scores']['math'] for s in students)\n",
        "    total_eng = sum(s['scores']['english'] for s in students)\n",
        "    avg_math = total_math / len(students)\n",
        "    avg_eng = total_eng / len(students)\n",
        "    print(f\"平均數學成績：{avg_math:.2f}\")\n",
        "    print(f\"平均英文成績：{avg_eng:.2f}\")\n",
        "\n",
        "def search_student():\n",
        "    keyword = input(\"請輸入要查詢的學生姓名：\")\n",
        "    found = False\n",
        "    #要怎麼想到...\n",
        "    for s in students:\n",
        "        if s['name'] == keyword:\n",
        "            print(f\"✅ 找到學生：{s['name']} ({s['age']}歲) 數學: {s['scores']['math']} 英文: {s['scores']['english']}\")\n",
        "            found = True\n",
        "            break\n",
        "            #if 後面沒有跟else有點不習慣\n",
        "            #for,while還是有點不太明白使用時機\n",
        "    if not found:\n",
        "        print(\"❌ 找不到該學生\")\n",
        "\n",
        "def delete_student():\n",
        "    keyword = input(\"請輸入要刪除的學生姓名：\")\n",
        "    for i, s in enumerate(students):\n",
        "        if s['name'] == keyword:\n",
        "            del students[i]\n",
        "            #del,pop,remove的不同\n",
        "            print(f\"🗑️ 已刪除學生 {keyword}\")\n",
        "            return\n",
        "    print(\"❌ 找不到該學生\")\n",
        "\n",
        "\n",
        "def update_student():\n",
        "    keyword = input(\"請輸入要更新的學生姓名：\")\n",
        "    for s in students:\n",
        "        if s['name'] == keyword:\n",
        "            s['age'] = int(input(\"請輸入新的年齡：\"))\n",
        "            s['scores']['math'] = int(input(\"請輸入新的數學成績：\"))\n",
        "            s['scores']['english'] = int(input(\"請輸入新的英文成績：\"))\n",
        "            print(f\"✅ 學生 {keyword} 資料已更新\")\n",
        "            return\n",
        "            #Return跟print(),break這樣一樣嗎\n",
        "    print(\"❌ 找不到該學生\")\n",
        "\n",
        "\n",
        "\n",
        "# 主選單更新\n",
        "while True:\n",
        "    print(\"\\n=== 學生管理系統 ===\")\n",
        "    print(\"1. 新增學生  2. 顯示所有學生  3. 顯示平均成績\")\n",
        "    print(\"4. 查詢學生  5. 刪除學生  6. 更新學生資料  7. 離開\")\n",
        "    choice = input(\"請選擇功能：\")\n",
        "\n",
        "    if choice == \"1\":\n",
        "        add_student()\n",
        "    elif choice == \"2\":\n",
        "        show_all()\n",
        "    elif choice == \"3\":\n",
        "        average_scores()\n",
        "    elif choice == \"4\":\n",
        "        search_student()\n",
        "    elif choice == \"5\":\n",
        "        delete_student()\n",
        "    elif choice == \"6\":\n",
        "        update_student()\n",
        "    elif choice == \"7\":\n",
        "        print(\"再見！\")\n",
        "        break\n",
        "    else:\n",
        "        print(\"無效選項\")\n",
        "\n"
      ],
      "metadata": {
        "id": "X2Z_dANyukPG",
        "colab": {
          "base_uri": "https://localhost:8080/",
          "height": 426
        },
        "outputId": "e58d80e3-14c9-47bb-f0dc-9b0795e29f8c"
      },
      "execution_count": null,
      "outputs": [
        {
          "output_type": "stream",
          "name": "stdout",
          "text": [
            "\n",
            "=== 學生管理系統 ===\n",
            "1. 新增學生  2. 顯示所有學生  3. 顯示平均成績\n",
            "4. 查詢學生  5. 刪除學生  6. 更新學生資料  7. 離開\n"
          ]
        },
        {
          "output_type": "error",
          "ename": "KeyboardInterrupt",
          "evalue": "Interrupted by user",
          "traceback": [
            "\u001b[0;31m---------------------------------------------------------------------------\u001b[0m",
            "\u001b[0;31mKeyboardInterrupt\u001b[0m                         Traceback (most recent call last)",
            "\u001b[0;32m<ipython-input-3-3704999104>\u001b[0m in \u001b[0;36m<cell line: 0>\u001b[0;34m()\u001b[0m\n\u001b[1;32m     71\u001b[0m     \u001b[0mprint\u001b[0m\u001b[0;34m(\u001b[0m\u001b[0;34m\"1. 新增學生  2. 顯示所有學生  3. 顯示平均成績\"\u001b[0m\u001b[0;34m)\u001b[0m\u001b[0;34m\u001b[0m\u001b[0;34m\u001b[0m\u001b[0m\n\u001b[1;32m     72\u001b[0m     \u001b[0mprint\u001b[0m\u001b[0;34m(\u001b[0m\u001b[0;34m\"4. 查詢學生  5. 刪除學生  6. 更新學生資料  7. 離開\"\u001b[0m\u001b[0;34m)\u001b[0m\u001b[0;34m\u001b[0m\u001b[0;34m\u001b[0m\u001b[0m\n\u001b[0;32m---> 73\u001b[0;31m     \u001b[0mchoice\u001b[0m \u001b[0;34m=\u001b[0m \u001b[0minput\u001b[0m\u001b[0;34m(\u001b[0m\u001b[0;34m\"請選擇功能：\"\u001b[0m\u001b[0;34m)\u001b[0m\u001b[0;34m\u001b[0m\u001b[0;34m\u001b[0m\u001b[0m\n\u001b[0m\u001b[1;32m     74\u001b[0m \u001b[0;34m\u001b[0m\u001b[0m\n\u001b[1;32m     75\u001b[0m     \u001b[0;32mif\u001b[0m \u001b[0mchoice\u001b[0m \u001b[0;34m==\u001b[0m \u001b[0;34m\"1\"\u001b[0m\u001b[0;34m:\u001b[0m\u001b[0;34m\u001b[0m\u001b[0;34m\u001b[0m\u001b[0m\n",
            "\u001b[0;32m/usr/local/lib/python3.11/dist-packages/ipykernel/kernelbase.py\u001b[0m in \u001b[0;36mraw_input\u001b[0;34m(self, prompt)\u001b[0m\n\u001b[1;32m   1175\u001b[0m                 \u001b[0;34m\"raw_input was called, but this frontend does not support input requests.\"\u001b[0m\u001b[0;34m\u001b[0m\u001b[0;34m\u001b[0m\u001b[0m\n\u001b[1;32m   1176\u001b[0m             )\n\u001b[0;32m-> 1177\u001b[0;31m         return self._input_request(\n\u001b[0m\u001b[1;32m   1178\u001b[0m             \u001b[0mstr\u001b[0m\u001b[0;34m(\u001b[0m\u001b[0mprompt\u001b[0m\u001b[0;34m)\u001b[0m\u001b[0;34m,\u001b[0m\u001b[0;34m\u001b[0m\u001b[0;34m\u001b[0m\u001b[0m\n\u001b[1;32m   1179\u001b[0m             \u001b[0mself\u001b[0m\u001b[0;34m.\u001b[0m\u001b[0m_parent_ident\u001b[0m\u001b[0;34m[\u001b[0m\u001b[0;34m\"shell\"\u001b[0m\u001b[0;34m]\u001b[0m\u001b[0;34m,\u001b[0m\u001b[0;34m\u001b[0m\u001b[0;34m\u001b[0m\u001b[0m\n",
            "\u001b[0;32m/usr/local/lib/python3.11/dist-packages/ipykernel/kernelbase.py\u001b[0m in \u001b[0;36m_input_request\u001b[0;34m(self, prompt, ident, parent, password)\u001b[0m\n\u001b[1;32m   1217\u001b[0m             \u001b[0;32mexcept\u001b[0m \u001b[0mKeyboardInterrupt\u001b[0m\u001b[0;34m:\u001b[0m\u001b[0;34m\u001b[0m\u001b[0;34m\u001b[0m\u001b[0m\n\u001b[1;32m   1218\u001b[0m                 \u001b[0;31m# re-raise KeyboardInterrupt, to truncate traceback\u001b[0m\u001b[0;34m\u001b[0m\u001b[0;34m\u001b[0m\u001b[0m\n\u001b[0;32m-> 1219\u001b[0;31m                 \u001b[0;32mraise\u001b[0m \u001b[0mKeyboardInterrupt\u001b[0m\u001b[0;34m(\u001b[0m\u001b[0;34m\"Interrupted by user\"\u001b[0m\u001b[0;34m)\u001b[0m \u001b[0;32mfrom\u001b[0m \u001b[0;32mNone\u001b[0m\u001b[0;34m\u001b[0m\u001b[0;34m\u001b[0m\u001b[0m\n\u001b[0m\u001b[1;32m   1220\u001b[0m             \u001b[0;32mexcept\u001b[0m \u001b[0mException\u001b[0m\u001b[0;34m:\u001b[0m\u001b[0;34m\u001b[0m\u001b[0;34m\u001b[0m\u001b[0m\n\u001b[1;32m   1221\u001b[0m                 \u001b[0mself\u001b[0m\u001b[0;34m.\u001b[0m\u001b[0mlog\u001b[0m\u001b[0;34m.\u001b[0m\u001b[0mwarning\u001b[0m\u001b[0;34m(\u001b[0m\u001b[0;34m\"Invalid Message:\"\u001b[0m\u001b[0;34m,\u001b[0m \u001b[0mexc_info\u001b[0m\u001b[0;34m=\u001b[0m\u001b[0;32mTrue\u001b[0m\u001b[0;34m)\u001b[0m\u001b[0;34m\u001b[0m\u001b[0;34m\u001b[0m\u001b[0m\n",
            "\u001b[0;31mKeyboardInterrupt\u001b[0m: Interrupted by user"
          ]
        }
      ]
    },
    {
      "cell_type": "code",
      "source": [],
      "metadata": {
        "id": "CD8haQZCuqLI"
      },
      "execution_count": null,
      "outputs": []
    }
  ]
}